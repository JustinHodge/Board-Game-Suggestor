{
 "cells": [
  {
   "cell_type": "markdown",
   "id": "27d91937",
   "metadata": {},
   "source": [
    "# IMPORTS AND SETUP"
   ]
  },
  {
   "cell_type": "code",
   "execution_count": 1,
   "id": "ce77195d",
   "metadata": {},
   "outputs": [],
   "source": [
    "%matplotlib inline\n",
    "import pandas as pd\n",
    "import random\n",
    "import tkinter as tk\n",
    "from collections import OrderedDict\n",
    "import matplotlib.pyplot as plt\n",
    "import pandas as pd\n",
    "import numpy as np\n",
    "import seaborn as sns\n",
    "import sklearn as sk\n",
    "from enum import Enum\n",
    "from sklearn.model_selection import train_test_split\n",
    "from sklearn.preprocessing import StandardScaler\n",
    "from sklearn.decomposition import PCA\n",
    "from sklearn.cluster import KMeans\n",
    "from sklearn.linear_model import LinearRegression\n",
    "import time\n",
    "import math\n",
    "from matplotlib import colors"
   ]
  },
  {
   "cell_type": "code",
   "execution_count": 2,
   "id": "d8b82ee5",
   "metadata": {},
   "outputs": [],
   "source": [
    "# random_seed = int(time.time()//1)\n",
    "# print(random_seed)\n",
    "random_seed = 222\n",
    "# 87348926\n",
    "# 22732713\n",
    "# 8 1.38\n",
    "# 4 1.27\n",
    "# 1 .89\n",
    "# 89 1.14\n",
    "#40\n",
    "# red=0, green=1, blue=2, cyan=3, magenta=4, yellow=5\n",
    "cmap = colors.ListedColormap(['r','g','b','c','m', 'y'])"
   ]
  },
  {
   "cell_type": "code",
   "execution_count": 3,
   "id": "83797606",
   "metadata": {
    "scrolled": true
   },
   "outputs": [],
   "source": [
    "unclean_detailed_info = pd.read_csv('..\\Resources\\BoardGames\\games_detailed_info.csv')"
   ]
  },
  {
   "cell_type": "code",
   "execution_count": 4,
   "id": "8c4fe566",
   "metadata": {},
   "outputs": [],
   "source": [
    "clean_detailed_info = unclean_detailed_info.drop(['Unnamed: 0', 'type', 'id', 'thumbnail', 'image', 'primary',\n",
    "       'alternate', 'description', 'yearpublished', 'boardgameexpansion', 'boardgameimplementation',\n",
    "       'boardgamedesigner', 'boardgameartist', 'boardgamepublisher', 'boardgameintegration', 'boardgamecompilation', 'boardgamecategory',\n",
    "       'boardgamemechanic', 'boardgamefamily', 'RPG Item Rank', 'Accessory Rank', 'Video Game Rank', 'Amiga Rank',\n",
    "       'Commodore 64 Rank', 'Arcade Rank', 'Atari ST Rank'], axis=1)"
   ]
  },
  {
   "cell_type": "markdown",
   "id": "ba025b20",
   "metadata": {},
   "source": [
    "# FUNCTIONS"
   ]
  },
  {
   "cell_type": "code",
   "execution_count": 5,
   "id": "3fea0c94",
   "metadata": {},
   "outputs": [],
   "source": [
    "def sum_of_array(an_array):\n",
    "    sum = 0 \n",
    "    for i in an_array:\n",
    "        sum += i\n",
    "    return sum"
   ]
  },
  {
   "cell_type": "code",
   "execution_count": 6,
   "id": "ec99d1c0",
   "metadata": {},
   "outputs": [],
   "source": [
    "def draw_vector(v0, v1, ax=None):\n",
    "    ax = ax or plt.gca()\n",
    "    arrowprops=dict(arrowstyle='->',\n",
    "                    linewidth=2,\n",
    "                    shrinkA=0, shrinkB=0)\n",
    "    ax.annotate('', v1, v0, arrowprops=arrowprops)"
   ]
  },
  {
   "cell_type": "code",
   "execution_count": 7,
   "id": "4e39b963",
   "metadata": {},
   "outputs": [],
   "source": [
    "language_value = {\n",
    "    'NO' : 1,\n",
    "    'SOME' : 2,\n",
    "    'MODERATE' : 3,\n",
    "    'EXTENSIVE' : 4,\n",
    "    'UNPLAYABLE' : 5\n",
    "}\n",
    "\n",
    "def normalize_language_dependence(game):\n",
    "    sum_of_weighted_language = 0\n",
    "    total_num_votes = 0\n",
    "    for level in game:\n",
    "        value_key = level['@value'].split(' ')[0].upper()\n",
    "        language_multiplier = language_value[value_key]\n",
    "        votes = int(level['@numvotes'])\n",
    "        total_num_votes += votes\n",
    "        sum_of_weighted_language += language_multiplier * votes\n",
    "    return (sum_of_weighted_language / total_num_votes) if total_num_votes > 0 else 0"
   ]
  },
  {
   "cell_type": "code",
   "execution_count": 8,
   "id": "543c5127",
   "metadata": {},
   "outputs": [],
   "source": [
    "def add_brackets_and_eval(string_item):\n",
    "    string_item = str(string_item)\n",
    "    if string_item[0] != '[':\n",
    "        string_item = '[' + str(string_item)\n",
    "    if string_item[-1] != ']':\n",
    "        string_item = str(string_item) + ']'\n",
    "    return eval(string_item)"
   ]
  },
  {
   "cell_type": "code",
   "execution_count": 9,
   "id": "de64ceb8",
   "metadata": {},
   "outputs": [],
   "source": [
    "def is_empty_playercount(game):\n",
    "    for playercount in game:\n",
    "        if 'result' in playercount:\n",
    "            return True\n",
    "        else: \n",
    "            return False"
   ]
  },
  {
   "cell_type": "code",
   "execution_count": 10,
   "id": "985c2062",
   "metadata": {},
   "outputs": [],
   "source": [
    "def calculate_age_from_ordered_dict(game):\n",
    "    weighted_age_sum = 0\n",
    "    total_votes = 0\n",
    "    for age in game:\n",
    "        votes = age['@numvotes']\n",
    "        if age['@value'].isnumeric():\n",
    "            age_num = age['@value']\n",
    "        else:\n",
    "            age_num = 25\n",
    "        weighted_age_sum += int(age_num) * int(votes) \n",
    "        total_votes += int(votes)\n",
    "    if total_votes:\n",
    "        return weighted_age_sum/total_votes\n",
    "    else:\n",
    "        return 0"
   ]
  },
  {
   "cell_type": "code",
   "execution_count": 11,
   "id": "92814ffc",
   "metadata": {},
   "outputs": [],
   "source": [
    "result_value = {\n",
    "    'BEST' : 3,\n",
    "    'RECOMMENDED' : 2,\n",
    "    'NOTRECOMMENDED' : 1   \n",
    "}\n",
    "\n",
    "def calculate_players_from_ordered_dict(game):\n",
    "    playercount_normalized_results = {}\n",
    "    for playercount in game:\n",
    "        if not 'result' in playercount:\n",
    "            return 0\n",
    "        total_votes = 0\n",
    "        result_total_result = 0\n",
    "        result_normalized_result = 0\n",
    "        for result in playercount['result']:\n",
    "            current_player_count = result['@value']\n",
    "            multiplier = result_value[result['@value'].upper().replace(' ', '')]\n",
    "            total_votes += int(result['@numvotes'])\n",
    "            result_total_result += int(result['@numvotes']) * multiplier\n",
    "        if(total_votes):\n",
    "            result_normalized_result = result_total_result / total_votes\n",
    "        else:\n",
    "            result_normalized_result = 0\n",
    "            result_normalized_result = 0\n",
    "        playercount_normalized_results[playercount['@numplayers']]=result_normalized_result\n",
    "    sum_of_weighted_players = 0\n",
    "    sum_of_keys = 0\n",
    "    num_of_keys = 0\n",
    "    for key in playercount_normalized_results.keys():\n",
    "        if not key.isnumeric():\n",
    "            num = int(key[:-1]) + 1\n",
    "        else:\n",
    "            num = int(key)\n",
    "        sum_of_weighted_players += num * (playercount_normalized_results[key]/3)\n",
    "        sum_of_keys += num\n",
    "        num_of_keys += 1\n",
    "    return (sum_of_weighted_players)/(sum_of_keys/num_of_keys)\n"
   ]
  },
  {
   "cell_type": "markdown",
   "id": "f225dc97",
   "metadata": {},
   "source": [
    "# DATA CLEANING"
   ]
  },
  {
   "cell_type": "code",
   "execution_count": 12,
   "id": "b59abb2b",
   "metadata": {},
   "outputs": [],
   "source": [
    "clean_detailed_info = clean_detailed_info.fillna(0)"
   ]
  },
  {
   "cell_type": "code",
   "execution_count": 13,
   "id": "501c4af4",
   "metadata": {},
   "outputs": [],
   "source": [
    "clean_detailed_info['suggested_num_players'] = clean_detailed_info['suggested_num_players'].apply(add_brackets_and_eval)\n",
    "clean_detailed_info['suggested_num_players'] = clean_detailed_info['suggested_num_players'].apply(calculate_players_from_ordered_dict)"
   ]
  },
  {
   "cell_type": "code",
   "execution_count": 14,
   "id": "93b5cc33",
   "metadata": {},
   "outputs": [],
   "source": [
    "clean_detailed_info = clean_detailed_info[clean_detailed_info['suggested_playerage'] != 0]\n",
    "clean_detailed_info['suggested_playerage'] = clean_detailed_info['suggested_playerage'].apply(add_brackets_and_eval)\n",
    "clean_detailed_info['suggested_playerage'] = clean_detailed_info['suggested_playerage'].apply(calculate_age_from_ordered_dict)"
   ]
  },
  {
   "cell_type": "code",
   "execution_count": 15,
   "id": "53ce39ef",
   "metadata": {},
   "outputs": [],
   "source": [
    "clean_detailed_info = clean_detailed_info[clean_detailed_info['suggested_language_dependence'] != 0]\n",
    "clean_detailed_info['suggested_language_dependence'] = clean_detailed_info['suggested_language_dependence'].apply(add_brackets_and_eval)\n",
    "clean_detailed_info['suggested_language_dependence'] = clean_detailed_info['suggested_language_dependence'].apply(normalize_language_dependence)"
   ]
  },
  {
   "cell_type": "code",
   "execution_count": 16,
   "id": "58bc1cd6",
   "metadata": {
    "scrolled": true
   },
   "outputs": [],
   "source": [
    "clean_detailed_info = clean_detailed_info[clean_detailed_info['suggested_num_players'] > 0]\n",
    "clean_detailed_info = clean_detailed_info[clean_detailed_info['suggested_playerage'] > 0]\n",
    "clean_detailed_info = clean_detailed_info[clean_detailed_info['suggested_language_dependence'] > 0]"
   ]
  },
  {
   "cell_type": "markdown",
   "id": "8edbb46d",
   "metadata": {},
   "source": [
    "# PRINTOUTS"
   ]
  },
  {
   "cell_type": "code",
   "execution_count": 17,
   "id": "dadbfc76",
   "metadata": {},
   "outputs": [
    {
     "name": "stdout",
     "output_type": "stream",
     "text": [
      "Index(['Unnamed: 0', 'type', 'id', 'thumbnail', 'image', 'primary',\n",
      "       'alternate', 'description', 'yearpublished', 'minplayers', 'maxplayers',\n",
      "       'suggested_num_players', 'suggested_playerage',\n",
      "       'suggested_language_dependence', 'playingtime', 'minplaytime',\n",
      "       'maxplaytime', 'minage', 'boardgamecategory', 'boardgamemechanic',\n",
      "       'boardgamefamily', 'boardgameexpansion', 'boardgameimplementation',\n",
      "       'boardgamedesigner', 'boardgameartist', 'boardgamepublisher',\n",
      "       'usersrated', 'average', 'bayesaverage', 'Board Game Rank',\n",
      "       'Strategy Game Rank', 'Family Game Rank', 'stddev', 'median', 'owned',\n",
      "       'trading', 'wanting', 'wishing', 'numcomments', 'numweights',\n",
      "       'averageweight', 'boardgameintegration', 'boardgamecompilation',\n",
      "       'Party Game Rank', 'Abstract Game Rank', 'Thematic Rank',\n",
      "       'War Game Rank', 'Customizable Rank', 'Children's Game Rank',\n",
      "       'RPG Item Rank', 'Accessory Rank', 'Video Game Rank', 'Amiga Rank',\n",
      "       'Commodore 64 Rank', 'Arcade Rank', 'Atari ST Rank'],\n",
      "      dtype='object')\n",
      "       Unnamed: 0       type      id  \\\n",
      "0               0  boardgame   30549   \n",
      "1               1  boardgame     822   \n",
      "2               2  boardgame      13   \n",
      "3               3  boardgame   68448   \n",
      "4               4  boardgame   36218   \n",
      "...           ...        ...     ...   \n",
      "19225       19225  boardgame  246345   \n",
      "19226       19226  boardgame  195623   \n",
      "19227       19227  boardgame  235943   \n",
      "19228       19228  boardgame  284862   \n",
      "19229       19229  boardgame  281515   \n",
      "\n",
      "                                               thumbnail  \\\n",
      "0      https://cf.geekdo-images.com/thumb/img/HEKrtpT...   \n",
      "1      https://cf.geekdo-images.com/thumb/img/kqE4YJS...   \n",
      "2      https://cf.geekdo-images.com/thumb/img/g8LvJsd...   \n",
      "3      https://cf.geekdo-images.com/thumb/img/Grz-qM9...   \n",
      "4      https://cf.geekdo-images.com/thumb/img/iPlTR5c...   \n",
      "...                                                  ...   \n",
      "19225  https://cf.geekdo-images.com/thumb/img/EMAGbmG...   \n",
      "19226  https://cf.geekdo-images.com/thumb/img/y2EuGgf...   \n",
      "19227  https://cf.geekdo-images.com/thumb/img/LUyoD4j...   \n",
      "19228  https://cf.geekdo-images.com/thumb/img/b_ckSKO...   \n",
      "19229  https://cf.geekdo-images.com/thumb/img/QnvFHRq...   \n",
      "\n",
      "                                                   image  \\\n",
      "0      https://cf.geekdo-images.com/original/img/j-pf...   \n",
      "1      https://cf.geekdo-images.com/original/img/o4p6...   \n",
      "2      https://cf.geekdo-images.com/original/img/A-0y...   \n",
      "3      https://cf.geekdo-images.com/original/img/3DP_...   \n",
      "4      https://cf.geekdo-images.com/original/img/oN8C...   \n",
      "...                                                  ...   \n",
      "19225  https://cf.geekdo-images.com/original/img/UxAl...   \n",
      "19226  https://cf.geekdo-images.com/original/img/o9Ut...   \n",
      "19227  https://cf.geekdo-images.com/original/img/o9gV...   \n",
      "19228  https://cf.geekdo-images.com/original/img/Vxd9...   \n",
      "19229  https://cf.geekdo-images.com/original/img/pC4x...   \n",
      "\n",
      "                           primary  \\\n",
      "0                         Pandemic   \n",
      "1                      Carcassonne   \n",
      "2                            Catan   \n",
      "3                        7 Wonders   \n",
      "4                         Dominion   \n",
      "...                            ...   \n",
      "19225                   Ninja Rush   \n",
      "19226  Politricks: Dirty Card Game   \n",
      "19227                     Doppel X   \n",
      "19228               Beasty Borders   \n",
      "19229            Company of Heroes   \n",
      "\n",
      "                                               alternate  \\\n",
      "0      ['EPIZOotic', 'Pandemia', 'Pandemia 10 Anivers...   \n",
      "1      ['Carcassonne Jubilee Edition', 'Carcassonne: ...   \n",
      "2      ['CATAN', 'Catan (Колонизаторы)', 'Catan telep...   \n",
      "3      ['7 csoda', '7 Cudów Świata', '7 divů světa', ...   \n",
      "4      ['Dominion: Basisspiel', 'Dominion: In naam va...   \n",
      "...                                                  ...   \n",
      "19225                                   ['Ternet Ninja']   \n",
      "19226                                                NaN   \n",
      "19227                                                NaN   \n",
      "19228                                                NaN   \n",
      "19229                                                NaN   \n",
      "\n",
      "                                             description  yearpublished  \\\n",
      "0      In Pandemic, several virulent diseases have br...           2008   \n",
      "1      Carcassonne is a tile-placement game in which ...           2000   \n",
      "2      In Catan (formerly The Settlers of Catan), pla...           1995   \n",
      "3      You are the leader of one of the 7 great citie...           2010   \n",
      "4      &quot;You are a monarch, like your parents bef...           2008   \n",
      "...                                                  ...            ...   \n",
      "19225  In Ninja Rush, on each ninja player's turn, th...           2018   \n",
      "19226  Want another way to analyze aspiring politicia...           2016   \n",
      "19227  In Doppel X, players throw their dice together...           2017   \n",
      "19228  Both players want to make the biggest groups w...           2019   \n",
      "19229  Company of Heroes the board game is based on t...           2020   \n",
      "\n",
      "       minplayers  ...  War Game Rank Customizable Rank Children's Game Rank  \\\n",
      "0               2  ...            NaN               NaN                  NaN   \n",
      "1               2  ...            NaN               NaN                  NaN   \n",
      "2               3  ...            NaN               NaN                  NaN   \n",
      "3               2  ...            NaN               NaN                  NaN   \n",
      "4               2  ...            NaN               NaN                  NaN   \n",
      "...           ...  ...            ...               ...                  ...   \n",
      "19225           2  ...            NaN               NaN                  NaN   \n",
      "19226           2  ...            NaN               NaN                  NaN   \n",
      "19227           3  ...            NaN               NaN                  NaN   \n",
      "19228           2  ...            NaN               NaN                  NaN   \n",
      "19229           2  ...         2717.0               NaN                  NaN   \n",
      "\n",
      "      RPG Item Rank  Accessory Rank  Video Game Rank  Amiga Rank  \\\n",
      "0               NaN             NaN              NaN         NaN   \n",
      "1               NaN             NaN              NaN         NaN   \n",
      "2               NaN             NaN              NaN         NaN   \n",
      "3               NaN             NaN              NaN         NaN   \n",
      "4               NaN             NaN              NaN         NaN   \n",
      "...             ...             ...              ...         ...   \n",
      "19225           NaN             NaN              NaN         NaN   \n",
      "19226           NaN             NaN              NaN         NaN   \n",
      "19227           NaN             NaN              NaN         NaN   \n",
      "19228           NaN             NaN              NaN         NaN   \n",
      "19229           NaN             NaN              NaN         NaN   \n",
      "\n",
      "       Commodore 64 Rank Arcade Rank Atari ST Rank  \n",
      "0                    NaN         NaN           NaN  \n",
      "1                    NaN         NaN           NaN  \n",
      "2                    NaN         NaN           NaN  \n",
      "3                    NaN         NaN           NaN  \n",
      "4                    NaN         NaN           NaN  \n",
      "...                  ...         ...           ...  \n",
      "19225                NaN         NaN           NaN  \n",
      "19226                NaN         NaN           NaN  \n",
      "19227                NaN         NaN           NaN  \n",
      "19228                NaN         NaN           NaN  \n",
      "19229                NaN         NaN           NaN  \n",
      "\n",
      "[19230 rows x 56 columns]\n"
     ]
    }
   ],
   "source": [
    "print(unclean_detailed_info.columns)\n",
    "print(unclean_detailed_info)"
   ]
  },
  {
   "cell_type": "code",
   "execution_count": 18,
   "id": "3ccdb0b0",
   "metadata": {},
   "outputs": [
    {
     "name": "stdout",
     "output_type": "stream",
     "text": [
      "Index(['minplayers', 'maxplayers', 'suggested_num_players',\n",
      "       'suggested_playerage', 'suggested_language_dependence', 'playingtime',\n",
      "       'minplaytime', 'maxplaytime', 'minage', 'usersrated', 'average',\n",
      "       'bayesaverage', 'Board Game Rank', 'Strategy Game Rank',\n",
      "       'Family Game Rank', 'stddev', 'median', 'owned', 'trading', 'wanting',\n",
      "       'wishing', 'numcomments', 'numweights', 'averageweight',\n",
      "       'Party Game Rank', 'Abstract Game Rank', 'Thematic Rank',\n",
      "       'War Game Rank', 'Customizable Rank', 'Children's Game Rank'],\n",
      "      dtype='object')\n",
      "       minplayers  maxplayers  suggested_num_players  suggested_playerage  \\\n",
      "0               2           4               3.294766             9.734205   \n",
      "1               2           5               3.650544             7.615527   \n",
      "2               3           4               3.075150             8.862408   \n",
      "3               2           7               5.159062            10.004464   \n",
      "4               2           4               3.181440             9.691038   \n",
      "...           ...         ...                    ...                  ...   \n",
      "19222           2           2               2.333333            16.000000   \n",
      "19225           2           4               3.000000             8.000000   \n",
      "19226           2           5               3.809524             8.000000   \n",
      "19227           3           8               3.133333             6.000000   \n",
      "19229           2           4               3.859259            14.400000   \n",
      "\n",
      "       suggested_language_dependence  playingtime  minplaytime  maxplaytime  \\\n",
      "0                           2.130573           45           45           45   \n",
      "1                           1.028698           45           30           45   \n",
      "2                           2.034268          120           60          120   \n",
      "3                           1.251295           30           30           30   \n",
      "4                           3.145585           30           30           30   \n",
      "...                              ...          ...          ...          ...   \n",
      "19222                       3.500000            0            0            0   \n",
      "19225                       1.000000            0            0            0   \n",
      "19226                       2.000000           30           15           30   \n",
      "19227                       1.000000           20           20           20   \n",
      "19229                       2.000000           90           60           90   \n",
      "\n",
      "       minage  usersrated  ...  wishing  numcomments  numweights  \\\n",
      "0           8       96241  ...     8571        15778        5232   \n",
      "1           7       96228  ...     6286        17720        7304   \n",
      "2          10       96213  ...     5310        17859        7187   \n",
      "3          10       79873  ...    10875        13304        4423   \n",
      "4          13       74959  ...     7607        13008        4850   \n",
      "...       ...         ...  ...      ...          ...         ...   \n",
      "19222      12          30  ...       30           19           9   \n",
      "19225       7          30  ...        4            4           1   \n",
      "19226      10          30  ...        1           13           2   \n",
      "19227       8          30  ...        6           10           1   \n",
      "19229      12          30  ...      135           46           7   \n",
      "\n",
      "       averageweight  Party Game Rank  Abstract Game Rank  Thematic Rank  \\\n",
      "0             2.4148              0.0                 0.0            0.0   \n",
      "1             1.9158              0.0                 0.0            0.0   \n",
      "2             2.3264              0.0                 0.0            0.0   \n",
      "3             2.3321              0.0                 0.0            0.0   \n",
      "4             2.3586              0.0                 0.0            0.0   \n",
      "...              ...              ...                 ...            ...   \n",
      "19222         2.4444              0.0                 0.0            0.0   \n",
      "19225         1.0000              0.0                 0.0            0.0   \n",
      "19226         2.0000              0.0                 0.0            0.0   \n",
      "19227         1.0000              0.0                 0.0            0.0   \n",
      "19229         3.2857              0.0                 0.0            0.0   \n",
      "\n",
      "       War Game Rank  Customizable Rank  Children's Game Rank  \n",
      "0                0.0                0.0                   0.0  \n",
      "1                0.0                0.0                   0.0  \n",
      "2                0.0                0.0                   0.0  \n",
      "3                0.0                0.0                   0.0  \n",
      "4                0.0                0.0                   0.0  \n",
      "...              ...                ...                   ...  \n",
      "19222         2373.0                0.0                   0.0  \n",
      "19225            0.0                0.0                   0.0  \n",
      "19226            0.0                0.0                   0.0  \n",
      "19227            0.0                0.0                   0.0  \n",
      "19229         2717.0                0.0                   0.0  \n",
      "\n",
      "[12091 rows x 30 columns]\n"
     ]
    }
   ],
   "source": [
    "print(clean_detailed_info.columns)\n",
    "print(clean_detailed_info)"
   ]
  },
  {
   "cell_type": "code",
   "execution_count": 19,
   "id": "743be07c",
   "metadata": {},
   "outputs": [
    {
     "data": {
      "text/plain": [
       "12091"
      ]
     },
     "execution_count": 19,
     "metadata": {},
     "output_type": "execute_result"
    }
   ],
   "source": [
    "clean_detailed_info.shape[0]"
   ]
  },
  {
   "cell_type": "code",
   "execution_count": 20,
   "id": "ee526ed0",
   "metadata": {},
   "outputs": [
    {
     "data": {
      "text/html": [
       "<div>\n",
       "<style scoped>\n",
       "    .dataframe tbody tr th:only-of-type {\n",
       "        vertical-align: middle;\n",
       "    }\n",
       "\n",
       "    .dataframe tbody tr th {\n",
       "        vertical-align: top;\n",
       "    }\n",
       "\n",
       "    .dataframe thead th {\n",
       "        text-align: right;\n",
       "    }\n",
       "</style>\n",
       "<table border=\"1\" class=\"dataframe\">\n",
       "  <thead>\n",
       "    <tr style=\"text-align: right;\">\n",
       "      <th></th>\n",
       "      <th>minplayers</th>\n",
       "      <th>maxplayers</th>\n",
       "      <th>suggested_num_players</th>\n",
       "      <th>suggested_playerage</th>\n",
       "      <th>suggested_language_dependence</th>\n",
       "      <th>playingtime</th>\n",
       "      <th>minplaytime</th>\n",
       "      <th>maxplaytime</th>\n",
       "      <th>minage</th>\n",
       "      <th>usersrated</th>\n",
       "      <th>...</th>\n",
       "      <th>wishing</th>\n",
       "      <th>numcomments</th>\n",
       "      <th>numweights</th>\n",
       "      <th>averageweight</th>\n",
       "      <th>Party Game Rank</th>\n",
       "      <th>Abstract Game Rank</th>\n",
       "      <th>Thematic Rank</th>\n",
       "      <th>War Game Rank</th>\n",
       "      <th>Customizable Rank</th>\n",
       "      <th>Children's Game Rank</th>\n",
       "    </tr>\n",
       "  </thead>\n",
       "  <tbody>\n",
       "    <tr>\n",
       "      <th>0</th>\n",
       "      <td>2</td>\n",
       "      <td>4</td>\n",
       "      <td>3.294766</td>\n",
       "      <td>9.734205</td>\n",
       "      <td>2.130573</td>\n",
       "      <td>45</td>\n",
       "      <td>45</td>\n",
       "      <td>45</td>\n",
       "      <td>8</td>\n",
       "      <td>96241</td>\n",
       "      <td>...</td>\n",
       "      <td>8571</td>\n",
       "      <td>15778</td>\n",
       "      <td>5232</td>\n",
       "      <td>2.4148</td>\n",
       "      <td>0.0</td>\n",
       "      <td>0.0</td>\n",
       "      <td>0.0</td>\n",
       "      <td>0.0</td>\n",
       "      <td>0.0</td>\n",
       "      <td>0.0</td>\n",
       "    </tr>\n",
       "    <tr>\n",
       "      <th>1</th>\n",
       "      <td>2</td>\n",
       "      <td>5</td>\n",
       "      <td>3.650544</td>\n",
       "      <td>7.615527</td>\n",
       "      <td>1.028698</td>\n",
       "      <td>45</td>\n",
       "      <td>30</td>\n",
       "      <td>45</td>\n",
       "      <td>7</td>\n",
       "      <td>96228</td>\n",
       "      <td>...</td>\n",
       "      <td>6286</td>\n",
       "      <td>17720</td>\n",
       "      <td>7304</td>\n",
       "      <td>1.9158</td>\n",
       "      <td>0.0</td>\n",
       "      <td>0.0</td>\n",
       "      <td>0.0</td>\n",
       "      <td>0.0</td>\n",
       "      <td>0.0</td>\n",
       "      <td>0.0</td>\n",
       "    </tr>\n",
       "    <tr>\n",
       "      <th>2</th>\n",
       "      <td>3</td>\n",
       "      <td>4</td>\n",
       "      <td>3.075150</td>\n",
       "      <td>8.862408</td>\n",
       "      <td>2.034268</td>\n",
       "      <td>120</td>\n",
       "      <td>60</td>\n",
       "      <td>120</td>\n",
       "      <td>10</td>\n",
       "      <td>96213</td>\n",
       "      <td>...</td>\n",
       "      <td>5310</td>\n",
       "      <td>17859</td>\n",
       "      <td>7187</td>\n",
       "      <td>2.3264</td>\n",
       "      <td>0.0</td>\n",
       "      <td>0.0</td>\n",
       "      <td>0.0</td>\n",
       "      <td>0.0</td>\n",
       "      <td>0.0</td>\n",
       "      <td>0.0</td>\n",
       "    </tr>\n",
       "    <tr>\n",
       "      <th>3</th>\n",
       "      <td>2</td>\n",
       "      <td>7</td>\n",
       "      <td>5.159062</td>\n",
       "      <td>10.004464</td>\n",
       "      <td>1.251295</td>\n",
       "      <td>30</td>\n",
       "      <td>30</td>\n",
       "      <td>30</td>\n",
       "      <td>10</td>\n",
       "      <td>79873</td>\n",
       "      <td>...</td>\n",
       "      <td>10875</td>\n",
       "      <td>13304</td>\n",
       "      <td>4423</td>\n",
       "      <td>2.3321</td>\n",
       "      <td>0.0</td>\n",
       "      <td>0.0</td>\n",
       "      <td>0.0</td>\n",
       "      <td>0.0</td>\n",
       "      <td>0.0</td>\n",
       "      <td>0.0</td>\n",
       "    </tr>\n",
       "    <tr>\n",
       "      <th>4</th>\n",
       "      <td>2</td>\n",
       "      <td>4</td>\n",
       "      <td>3.181440</td>\n",
       "      <td>9.691038</td>\n",
       "      <td>3.145585</td>\n",
       "      <td>30</td>\n",
       "      <td>30</td>\n",
       "      <td>30</td>\n",
       "      <td>13</td>\n",
       "      <td>74959</td>\n",
       "      <td>...</td>\n",
       "      <td>7607</td>\n",
       "      <td>13008</td>\n",
       "      <td>4850</td>\n",
       "      <td>2.3586</td>\n",
       "      <td>0.0</td>\n",
       "      <td>0.0</td>\n",
       "      <td>0.0</td>\n",
       "      <td>0.0</td>\n",
       "      <td>0.0</td>\n",
       "      <td>0.0</td>\n",
       "    </tr>\n",
       "    <tr>\n",
       "      <th>...</th>\n",
       "      <td>...</td>\n",
       "      <td>...</td>\n",
       "      <td>...</td>\n",
       "      <td>...</td>\n",
       "      <td>...</td>\n",
       "      <td>...</td>\n",
       "      <td>...</td>\n",
       "      <td>...</td>\n",
       "      <td>...</td>\n",
       "      <td>...</td>\n",
       "      <td>...</td>\n",
       "      <td>...</td>\n",
       "      <td>...</td>\n",
       "      <td>...</td>\n",
       "      <td>...</td>\n",
       "      <td>...</td>\n",
       "      <td>...</td>\n",
       "      <td>...</td>\n",
       "      <td>...</td>\n",
       "      <td>...</td>\n",
       "      <td>...</td>\n",
       "    </tr>\n",
       "    <tr>\n",
       "      <th>19222</th>\n",
       "      <td>2</td>\n",
       "      <td>2</td>\n",
       "      <td>2.333333</td>\n",
       "      <td>16.000000</td>\n",
       "      <td>3.500000</td>\n",
       "      <td>0</td>\n",
       "      <td>0</td>\n",
       "      <td>0</td>\n",
       "      <td>12</td>\n",
       "      <td>30</td>\n",
       "      <td>...</td>\n",
       "      <td>30</td>\n",
       "      <td>19</td>\n",
       "      <td>9</td>\n",
       "      <td>2.4444</td>\n",
       "      <td>0.0</td>\n",
       "      <td>0.0</td>\n",
       "      <td>0.0</td>\n",
       "      <td>2373.0</td>\n",
       "      <td>0.0</td>\n",
       "      <td>0.0</td>\n",
       "    </tr>\n",
       "    <tr>\n",
       "      <th>19225</th>\n",
       "      <td>2</td>\n",
       "      <td>4</td>\n",
       "      <td>3.000000</td>\n",
       "      <td>8.000000</td>\n",
       "      <td>1.000000</td>\n",
       "      <td>0</td>\n",
       "      <td>0</td>\n",
       "      <td>0</td>\n",
       "      <td>7</td>\n",
       "      <td>30</td>\n",
       "      <td>...</td>\n",
       "      <td>4</td>\n",
       "      <td>4</td>\n",
       "      <td>1</td>\n",
       "      <td>1.0000</td>\n",
       "      <td>0.0</td>\n",
       "      <td>0.0</td>\n",
       "      <td>0.0</td>\n",
       "      <td>0.0</td>\n",
       "      <td>0.0</td>\n",
       "      <td>0.0</td>\n",
       "    </tr>\n",
       "    <tr>\n",
       "      <th>19226</th>\n",
       "      <td>2</td>\n",
       "      <td>5</td>\n",
       "      <td>3.809524</td>\n",
       "      <td>8.000000</td>\n",
       "      <td>2.000000</td>\n",
       "      <td>30</td>\n",
       "      <td>15</td>\n",
       "      <td>30</td>\n",
       "      <td>10</td>\n",
       "      <td>30</td>\n",
       "      <td>...</td>\n",
       "      <td>1</td>\n",
       "      <td>13</td>\n",
       "      <td>2</td>\n",
       "      <td>2.0000</td>\n",
       "      <td>0.0</td>\n",
       "      <td>0.0</td>\n",
       "      <td>0.0</td>\n",
       "      <td>0.0</td>\n",
       "      <td>0.0</td>\n",
       "      <td>0.0</td>\n",
       "    </tr>\n",
       "    <tr>\n",
       "      <th>19227</th>\n",
       "      <td>3</td>\n",
       "      <td>8</td>\n",
       "      <td>3.133333</td>\n",
       "      <td>6.000000</td>\n",
       "      <td>1.000000</td>\n",
       "      <td>20</td>\n",
       "      <td>20</td>\n",
       "      <td>20</td>\n",
       "      <td>8</td>\n",
       "      <td>30</td>\n",
       "      <td>...</td>\n",
       "      <td>6</td>\n",
       "      <td>10</td>\n",
       "      <td>1</td>\n",
       "      <td>1.0000</td>\n",
       "      <td>0.0</td>\n",
       "      <td>0.0</td>\n",
       "      <td>0.0</td>\n",
       "      <td>0.0</td>\n",
       "      <td>0.0</td>\n",
       "      <td>0.0</td>\n",
       "    </tr>\n",
       "    <tr>\n",
       "      <th>19229</th>\n",
       "      <td>2</td>\n",
       "      <td>4</td>\n",
       "      <td>3.859259</td>\n",
       "      <td>14.400000</td>\n",
       "      <td>2.000000</td>\n",
       "      <td>90</td>\n",
       "      <td>60</td>\n",
       "      <td>90</td>\n",
       "      <td>12</td>\n",
       "      <td>30</td>\n",
       "      <td>...</td>\n",
       "      <td>135</td>\n",
       "      <td>46</td>\n",
       "      <td>7</td>\n",
       "      <td>3.2857</td>\n",
       "      <td>0.0</td>\n",
       "      <td>0.0</td>\n",
       "      <td>0.0</td>\n",
       "      <td>2717.0</td>\n",
       "      <td>0.0</td>\n",
       "      <td>0.0</td>\n",
       "    </tr>\n",
       "  </tbody>\n",
       "</table>\n",
       "<p>12091 rows × 30 columns</p>\n",
       "</div>"
      ],
      "text/plain": [
       "       minplayers  maxplayers  suggested_num_players  suggested_playerage  \\\n",
       "0               2           4               3.294766             9.734205   \n",
       "1               2           5               3.650544             7.615527   \n",
       "2               3           4               3.075150             8.862408   \n",
       "3               2           7               5.159062            10.004464   \n",
       "4               2           4               3.181440             9.691038   \n",
       "...           ...         ...                    ...                  ...   \n",
       "19222           2           2               2.333333            16.000000   \n",
       "19225           2           4               3.000000             8.000000   \n",
       "19226           2           5               3.809524             8.000000   \n",
       "19227           3           8               3.133333             6.000000   \n",
       "19229           2           4               3.859259            14.400000   \n",
       "\n",
       "       suggested_language_dependence  playingtime  minplaytime  maxplaytime  \\\n",
       "0                           2.130573           45           45           45   \n",
       "1                           1.028698           45           30           45   \n",
       "2                           2.034268          120           60          120   \n",
       "3                           1.251295           30           30           30   \n",
       "4                           3.145585           30           30           30   \n",
       "...                              ...          ...          ...          ...   \n",
       "19222                       3.500000            0            0            0   \n",
       "19225                       1.000000            0            0            0   \n",
       "19226                       2.000000           30           15           30   \n",
       "19227                       1.000000           20           20           20   \n",
       "19229                       2.000000           90           60           90   \n",
       "\n",
       "       minage  usersrated  ...  wishing  numcomments  numweights  \\\n",
       "0           8       96241  ...     8571        15778        5232   \n",
       "1           7       96228  ...     6286        17720        7304   \n",
       "2          10       96213  ...     5310        17859        7187   \n",
       "3          10       79873  ...    10875        13304        4423   \n",
       "4          13       74959  ...     7607        13008        4850   \n",
       "...       ...         ...  ...      ...          ...         ...   \n",
       "19222      12          30  ...       30           19           9   \n",
       "19225       7          30  ...        4            4           1   \n",
       "19226      10          30  ...        1           13           2   \n",
       "19227       8          30  ...        6           10           1   \n",
       "19229      12          30  ...      135           46           7   \n",
       "\n",
       "       averageweight  Party Game Rank  Abstract Game Rank  Thematic Rank  \\\n",
       "0             2.4148              0.0                 0.0            0.0   \n",
       "1             1.9158              0.0                 0.0            0.0   \n",
       "2             2.3264              0.0                 0.0            0.0   \n",
       "3             2.3321              0.0                 0.0            0.0   \n",
       "4             2.3586              0.0                 0.0            0.0   \n",
       "...              ...              ...                 ...            ...   \n",
       "19222         2.4444              0.0                 0.0            0.0   \n",
       "19225         1.0000              0.0                 0.0            0.0   \n",
       "19226         2.0000              0.0                 0.0            0.0   \n",
       "19227         1.0000              0.0                 0.0            0.0   \n",
       "19229         3.2857              0.0                 0.0            0.0   \n",
       "\n",
       "       War Game Rank  Customizable Rank  Children's Game Rank  \n",
       "0                0.0                0.0                   0.0  \n",
       "1                0.0                0.0                   0.0  \n",
       "2                0.0                0.0                   0.0  \n",
       "3                0.0                0.0                   0.0  \n",
       "4                0.0                0.0                   0.0  \n",
       "...              ...                ...                   ...  \n",
       "19222         2373.0                0.0                   0.0  \n",
       "19225            0.0                0.0                   0.0  \n",
       "19226            0.0                0.0                   0.0  \n",
       "19227            0.0                0.0                   0.0  \n",
       "19229         2717.0                0.0                   0.0  \n",
       "\n",
       "[12091 rows x 30 columns]"
      ]
     },
     "execution_count": 20,
     "metadata": {},
     "output_type": "execute_result"
    }
   ],
   "source": [
    "clean_detailed_info"
   ]
  },
  {
   "cell_type": "markdown",
   "id": "6e86cd6f",
   "metadata": {},
   "source": [
    "# APPLICATION"
   ]
  },
  {
   "cell_type": "code",
   "execution_count": 21,
   "id": "f7d98c93",
   "metadata": {},
   "outputs": [],
   "source": [
    "scaler = StandardScaler().fit(clean_detailed_info)\n",
    "scaled_set = scaler.transform(clean_detailed_info)\n",
    "pca_set = PCA(n_components=2, random_state=random_seed)\n",
    "principalComponentsGames = pca_set.fit_transform(scaled_set)\n",
    "principalComponentsGamesDF = pd.DataFrame(data=principalComponentsGames, columns = ['PC1', 'PC2'])\n",
    "train_set, test_set = train_test_split(principalComponentsGamesDF, test_size=0.2, random_state=random_seed, shuffle=True)\n"
   ]
  },
  {
   "cell_type": "code",
   "execution_count": 22,
   "id": "c3124f54",
   "metadata": {
    "scrolled": true
   },
   "outputs": [],
   "source": [
    "kmeans = KMeans(n_clusters=6, random_state=random_seed)\n",
    "kmeans.fit(train_set)\n",
    "y_kmeans = kmeans.predict(train_set)"
   ]
  },
  {
   "cell_type": "code",
   "execution_count": 23,
   "id": "619ca364",
   "metadata": {
    "scrolled": true
   },
   "outputs": [],
   "source": [
    "y_testkmeans = kmeans.predict(test_set)"
   ]
  },
  {
   "cell_type": "code",
   "execution_count": 24,
   "id": "8d0a2997",
   "metadata": {
    "scrolled": false
   },
   "outputs": [],
   "source": [
    "reg = LinearRegression().fit(train_set, y_kmeans)"
   ]
  },
  {
   "cell_type": "code",
   "execution_count": 25,
   "id": "bb0fb69f",
   "metadata": {},
   "outputs": [],
   "source": [
    "#putting the cluster number in the unclean data set to retrieve results from later\n",
    "all_games_kmeans = kmeans.predict(principalComponentsGamesDF)\n",
    "clean_detailed_info['cluster'] = all_games_kmeans.tolist()\n",
    "unclean_detailed_info['cluster'] = clean_detailed_info['cluster']"
   ]
  },
  {
   "cell_type": "markdown",
   "id": "9be88329",
   "metadata": {},
   "source": [
    "# TESTING"
   ]
  },
  {
   "cell_type": "code",
   "execution_count": 26,
   "id": "ee476585",
   "metadata": {},
   "outputs": [
    {
     "data": {
      "text/plain": [
       "[<matplotlib.lines.Line2D at 0x1cbe991cb50>]"
      ]
     },
     "execution_count": 26,
     "metadata": {},
     "output_type": "execute_result"
    },
    {
     "data": {
      "image/png": "[encoded data removed]",
      "text/plain": [
       "<Figure size 432x288 with 1 Axes>"
      ]
     },
     "metadata": {
      "needs_background": "light"
     },
     "output_type": "display_data"
    }
   ],
   "source": [
    "plt.scatter(train_set.iloc[:, 0], train_set.iloc[:, 1], c=y_kmeans, s=1, alpha=.4, cmap=cmap)\n",
    "\n",
    "centers = kmeans.cluster_centers_\n",
    "plt.scatter(centers[:, 0], centers[:, 1], c='black', s=100, alpha=0.5);\n",
    "plt.plot(range(-20,20), [0]*40, '-', linewidth=1)\n",
    "plt.plot( [0]*40, range(-20,20), '-', linewidth=1)"
   ]
  },
  {
   "cell_type": "code",
   "execution_count": 27,
   "id": "b0cbfb50",
   "metadata": {},
   "outputs": [
    {
     "name": "stdout",
     "output_type": "stream",
     "text": [
      "0.2673639033658445\n",
      "[2.82120997 0.75051653 2.74872178 ... 1.00478064 1.62606474 1.00500557]\n",
      "[5 0 1 ... 2 2 0]\n"
     ]
    }
   ],
   "source": [
    "print(reg.score(train_set, y_kmeans))\n",
    "print(reg.predict(test_set))\n",
    "print(y_testkmeans)"
   ]
  },
  {
   "cell_type": "code",
   "execution_count": 28,
   "id": "25f08f4e",
   "metadata": {},
   "outputs": [
    {
     "data": {
      "text/plain": [
       "[<matplotlib.lines.Line2D at 0x1cbe98e6910>]"
      ]
     },
     "execution_count": 28,
     "metadata": {},
     "output_type": "execute_result"
    },
    {
     "data": {
      "image/png": "[encoded data removed]",
      "text/plain": [
       "<Figure size 432x288 with 1 Axes>"
      ]
     },
     "metadata": {
      "needs_background": "light"
     },
     "output_type": "display_data"
    }
   ],
   "source": [
    "plt.scatter(test_set.iloc[:, 0], test_set.iloc[:, 1], c=y_testkmeans, s=1, alpha=.4, cmap=cmap)\n",
    "centers = kmeans.cluster_centers_\n",
    "plt.scatter(centers[:, 0], centers[:, 1], c='black', s=100, alpha=0.5);\n",
    "plt.plot(range(-20,20), [0]*40, '-', linewidth=1)\n",
    "plt.plot( [0]*40, range(-20,20), '-', linewidth=1)"
   ]
  },
  {
   "cell_type": "code",
   "execution_count": 29,
   "id": "249d5637",
   "metadata": {
    "scrolled": false
   },
   "outputs": [
    {
     "name": "stdout",
     "output_type": "stream",
     "text": [
      "5\n",
      "0\n",
      "5.5763370554689065\n",
      "-1.1769619241091327\n",
      "1.3039212051034534\n"
     ]
    },
    {
     "data": {
      "text/plain": [
       "[<matplotlib.lines.Line2D at 0x1cbef81f310>]"
      ]
     },
     "execution_count": 29,
     "metadata": {},
     "output_type": "execute_result"
    },
    {
     "data": {
      "image/png": "[encoded data removed]",
      "text/plain": [
       "<Figure size 432x288 with 1 Axes>"
      ]
     },
     "metadata": {
      "needs_background": "light"
     },
     "output_type": "display_data"
    }
   ],
   "source": [
    "new_array = []\n",
    "pred_vals = reg.predict(test_set)\n",
    "for i in range(0,len(pred_vals)):\n",
    "    new_array.append(abs(y_testkmeans[i] - pred_vals[i]))\n",
    "\n",
    "print(max(y_testkmeans))\n",
    "print(min(y_testkmeans))\n",
    "print(max(pred_vals))\n",
    "print(min(pred_vals))\n",
    "print(sum_of_array(new_array)/len(new_array))\n",
    "\n",
    "plt.scatter(pred_vals, y_testkmeans, c=y_testkmeans, s=5, alpha=.2, marker='o', cmap=cmap)\n",
    "plt.plot(pred_vals, pred_vals, '-')"
   ]
  },
  {
   "cell_type": "markdown",
   "id": "f67d9e66",
   "metadata": {},
   "source": [
    "SUSPECT best option is to round down if <2.5 or >5 and up if >2.5 or <0 unless "
   ]
  },
  {
   "cell_type": "markdown",
   "id": "895fba7d",
   "metadata": {},
   "source": [
    "# STAGING"
   ]
  },
  {
   "cell_type": "code",
   "execution_count": 30,
   "id": "5c3df66a",
   "metadata": {
    "scrolled": false
   },
   "outputs": [
    {
     "data": {
      "text/plain": [
       "[<matplotlib.lines.Line2D at 0x1cbe36f52b0>]"
      ]
     },
     "execution_count": 30,
     "metadata": {},
     "output_type": "execute_result"
    },
    {
     "data": {
      "image/png": "[encoded data removed]",
      "text/plain": [
       "<Figure size 432x288 with 1 Axes>"
      ]
     },
     "metadata": {
      "needs_background": "light"
     },
     "output_type": "display_data"
    }
   ],
   "source": [
    "plt.scatter(principalComponentsGamesDF.iloc[:, 0], principalComponentsGamesDF.iloc[:, 1], c=all_games_kmeans, s=1, alpha=.4, cmap=cmap)\n",
    "centers = kmeans.cluster_centers_\n",
    "plt.scatter(centers[:, 0], centers[:, 1], c='black', s=100, alpha=0.5);\n",
    "plt.plot(range(-20,20), [0]*40, '-', linewidth=1)\n",
    "plt.plot( [0]*40, range(-20,20), '-', linewidth=1)"
   ]
  },
  {
   "cell_type": "code",
   "execution_count": 80,
   "id": "f5ac7539",
   "metadata": {},
   "outputs": [],
   "source": [
    "def predict_game_cluster(game_id_list):\n",
    "    number_of_features = len(clean_detailed_info.columns) - 1\n",
    "    games = np.empty((0,number_of_features), float)\n",
    "    for game_id in game_id_list:\n",
    "        games = np.append(games, np.array([clean_detailed_info.iloc[game_id].drop('cluster')]), axis=0)\n",
    "    average_of_games = np.average(games, axis=0)\n",
    "    scaled_average = scaler.transform(average_of_games.reshape(1, -1))\n",
    "    pca_average = pca_set.transform(scaled_average)\n",
    "    predicted_cluster = reg.predict(pca_average)\n",
    "    if predicted_cluster - math.floor(predicted_cluster) <= .5:\n",
    "        predicted_cluster = math.floor(predicted_cluster)\n",
    "    else:\n",
    "        predicted_cluster = math.ceil(predicted_cluster)\n",
    "    if predicted_cluster < 0:\n",
    "        predicted_cluster = 0\n",
    "    elif predicted_cluster > 5:\n",
    "        predicted_cluster = 5\n",
    "\n",
    "    \n",
    "    return predicted_cluster"
   ]
  },
  {
   "cell_type": "code",
   "execution_count": 81,
   "id": "1a0f447f",
   "metadata": {
    "scrolled": false
   },
   "outputs": [
    {
     "name": "stdout",
     "output_type": "stream",
     "text": [
      "0: happens this often - 0.015\n",
      "1: happens this often - 0.258\n",
      "2: happens this often - 0.438\n",
      "3: happens this often - 0.241\n",
      "4: happens this often - 0.04\n",
      "5: happens this often - 0.008\n"
     ]
    }
   ],
   "source": [
    "from collections import Counter\n",
    "predictionlist = []\n",
    "for i in range(1000):\n",
    "    game_id_list = [random.randrange(10000)]*random.randrange(3,10)\n",
    "    predictionlist.append(predict_game_cluster(game_id_list))\n",
    "predicted_counts = Counter(predictionlist)\n",
    "for i in range(6):\n",
    "    print(str(i) + ': happens this often - ' + str(predicted_counts[i]/1000))"
   ]
  },
  {
   "cell_type": "code",
   "execution_count": 82,
   "id": "0ebf58ab",
   "metadata": {},
   "outputs": [
    {
     "data": {
      "text/plain": [
       "[<matplotlib.lines.Line2D at 0x1cbef9fed30>]"
      ]
     },
     "execution_count": 82,
     "metadata": {},
     "output_type": "execute_result"
    },
    {
     "data": {
      "image/png": "[encoded data removed]",
      "text/plain": [
       "<Figure size 432x288 with 1 Axes>"
      ]
     },
     "metadata": {
      "needs_background": "light"
     },
     "output_type": "display_data"
    }
   ],
   "source": [
    "plt.scatter(principalComponentsGamesDF.iloc[:, 0], principalComponentsGamesDF.iloc[:, 1], c=all_games_kmeans, s=1, alpha=.4, cmap=cmap)\n",
    "centers = kmeans.cluster_centers_\n",
    "plt.scatter(centers[:, 0], centers[:, 1], c='black', s=100, alpha=0.5);\n",
    "plt.plot(range(-20,20), [0]*40, '-', linewidth=1)\n",
    "plt.plot( [0]*40, range(-20,20), '-', linewidth=1)"
   ]
  },
  {
   "cell_type": "markdown",
   "id": "3076c328",
   "metadata": {},
   "source": [
    "print(scaled_set)\n",
    "print(clean_detailed_info)"
   ]
  },
  {
   "cell_type": "code",
   "execution_count": 83,
   "id": "a3d3fbde",
   "metadata": {
    "scrolled": true
   },
   "outputs": [
    {
     "name": "stdout",
     "output_type": "stream",
     "text": [
      "0: happens this often - 0.10710445786121908\n",
      "1: happens this often - 0.3711024729137375\n",
      "2: happens this often - 0.2823587792572988\n",
      "3: happens this often - 0.0032255396575965596\n",
      "4: happens this often - 0.023653957489041436\n",
      "5: happens this often - 0.21255479282110662\n"
     ]
    }
   ],
   "source": [
    "# for i in range(1000):\n",
    "#     game_id_list = [random.randrange(10000)]*random.randrange(3,10)\n",
    "#     predictionlist.append(predict_game_cluster(game_id_list))\n",
    "all_counts = Counter(all_games_kmeans)\n",
    "    \n",
    "for i in range(6):\n",
    "    print(str(i) + ': happens this often - ' + str(all_counts[i]/len(all_games_kmeans)))"
   ]
  },
  {
   "cell_type": "code",
   "execution_count": 84,
   "id": "2ddca9c4",
   "metadata": {},
   "outputs": [
    {
     "name": "stdout",
     "output_type": "stream",
     "text": [
      "0: happens this often in all games - 0.10710445786121908\n",
      "0: happens this often in predicted games- 0.015\n",
      "\n",
      "The difference is 0.09210445786121908\n",
      "\n",
      "\n",
      "\n",
      "1: happens this often in all games - 0.3711024729137375\n",
      "1: happens this often in predicted games- 0.258\n",
      "\n",
      "The difference is 0.11310247291373748\n",
      "\n",
      "\n",
      "\n",
      "2: happens this often in all games - 0.2823587792572988\n",
      "2: happens this often in predicted games- 0.438\n",
      "\n",
      "The difference is -0.1556412207427012\n",
      "\n",
      "\n",
      "\n",
      "3: happens this often in all games - 0.0032255396575965596\n",
      "3: happens this often in predicted games- 0.241\n",
      "\n",
      "The difference is -0.23777446034240343\n",
      "\n",
      "\n",
      "\n",
      "4: happens this often in all games - 0.023653957489041436\n",
      "4: happens this often in predicted games- 0.04\n",
      "\n",
      "The difference is -0.016346042510958565\n",
      "\n",
      "\n",
      "\n",
      "5: happens this often in all games - 0.21255479282110662\n",
      "5: happens this often in predicted games- 0.008\n",
      "\n",
      "The difference is 0.2045547928211066\n",
      "\n",
      "\n",
      "\n",
      "{'predicted': 1.0, 'actual': 1.0}\n"
     ]
    }
   ],
   "source": [
    "sum_average = {'predicted' : 0, 'actual': 0}\n",
    "len_actual = len(all_games_kmeans)\n",
    "len_predicted = len(predictionlist)\n",
    "for i in range(6):\n",
    "    prob_predicted = predicted_counts[i]/len_predicted\n",
    "    prob_actual = all_counts[i]/len_actual\n",
    "    print(str(i) + ': happens this often in all games - ' + str(prob_actual))\n",
    "    print(str(i) + ': happens this often in predicted games- ' + str(prob_predicted))\n",
    "    print('\\nThe difference is ' + str(prob_actual - prob_predicted) + '\\n\\n\\n')\n",
    "    sum_average['predicted'] += prob_predicted\n",
    "    sum_average['actual'] += prob_actual\n",
    "print(sum_average)\n",
    "    "
   ]
  }
 ],
 "metadata": {
  "kernelspec": {
   "display_name": "Python 3",
   "language": "python",
   "name": "python3"
  },
  "language_info": {
   "codemirror_mode": {
    "name": "ipython",
    "version": 3
   },
   "file_extension": ".py",
   "mimetype": "text/x-python",
   "name": "python",
   "nbconvert_exporter": "python",
   "pygments_lexer": "ipython3",
   "version": "3.8.8"
  }
 },
 "nbformat": 4,
 "nbformat_minor": 5
}
