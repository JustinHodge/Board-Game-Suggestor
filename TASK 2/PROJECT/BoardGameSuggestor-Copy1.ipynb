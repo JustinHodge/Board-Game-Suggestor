{
 "cells": [
  {
   "cell_type": "markdown",
   "id": "bee238d1",
   "metadata": {},
   "source": [
    "# IMPORTS AND SETUP"
   ]
  },
  {
   "cell_type": "code",
   "execution_count": 1,
   "id": "dfd66222",
   "metadata": {},
   "outputs": [],
   "source": [
    "%matplotlib inline\n",
    "import pandas as pd\n",
    "import random\n",
    "import tkinter as tk\n",
    "from tkinter.ttk import *\n",
    "from collections import OrderedDict\n",
    "import matplotlib.pyplot as plt\n",
    "import pandas as pd\n",
    "import numpy as np\n",
    "import seaborn as sns\n",
    "import sklearn as sk\n",
    "from enum import Enum\n",
    "from sklearn.model_selection import train_test_split\n",
    "from sklearn.preprocessing import StandardScaler\n",
    "from sklearn.decomposition import PCA\n",
    "from sklearn.cluster import KMeans\n",
    "from sklearn.linear_model import LinearRegression\n",
    "import time\n",
    "import math\n",
    "from matplotlib import colors\n"
   ]
  },
  {
   "cell_type": "markdown",
   "id": "cac65e23",
   "metadata": {},
   "source": [
    "# FUNCTIONS"
   ]
  },
  {
   "cell_type": "code",
   "execution_count": 2,
   "id": "af0a4e79",
   "metadata": {},
   "outputs": [],
   "source": [
    "def sum_of_array(an_array):\n",
    "    sum = 0 \n",
    "    for i in an_array:\n",
    "        sum += i\n",
    "    return sum"
   ]
  },
  {
   "cell_type": "code",
   "execution_count": 3,
   "id": "01753fda",
   "metadata": {},
   "outputs": [],
   "source": [
    "def normalize_language_dependence(game):\n",
    "    sum_of_weighted_language = 0\n",
    "    total_num_votes = 0\n",
    "    for level in game:\n",
    "        value_key = level['@value'].split(' ')[0].upper()\n",
    "        language_multiplier = language_value[value_key]\n",
    "        votes = int(level['@numvotes'])\n",
    "        total_num_votes += votes\n",
    "        sum_of_weighted_language += language_multiplier * votes\n",
    "    return (sum_of_weighted_language / total_num_votes) if total_num_votes > 0 else 0"
   ]
  },
  {
   "cell_type": "code",
   "execution_count": 4,
   "id": "1d0d6776",
   "metadata": {},
   "outputs": [],
   "source": [
    "def add_brackets_and_eval(string_item):\n",
    "    string_item = str(string_item)\n",
    "    if string_item[0] != '[':\n",
    "        string_item = '[' + str(string_item)\n",
    "    if string_item[-1] != ']':\n",
    "        string_item = str(string_item) + ']'\n",
    "    return eval(string_item)"
   ]
  },
  {
   "cell_type": "code",
   "execution_count": 5,
   "id": "d156d638",
   "metadata": {},
   "outputs": [],
   "source": [
    "def is_empty_playercount(game):\n",
    "    for playercount in game:\n",
    "        if 'result' in playercount:\n",
    "            return True\n",
    "        else: \n",
    "            return False"
   ]
  },
  {
   "cell_type": "code",
   "execution_count": 6,
   "id": "29ce77f3",
   "metadata": {},
   "outputs": [],
   "source": [
    "def calculate_age_from_ordered_dict(game):\n",
    "    weighted_age_sum = 0\n",
    "    total_votes = 0\n",
    "    for age in game:\n",
    "        votes = age['@numvotes']\n",
    "        if age['@value'].isnumeric():\n",
    "            age_num = age['@value']\n",
    "        else:\n",
    "            age_num = 25\n",
    "        weighted_age_sum += int(age_num) * int(votes) \n",
    "        total_votes += int(votes)\n",
    "    if total_votes:\n",
    "        return weighted_age_sum/total_votes\n",
    "    else:\n",
    "        return 0"
   ]
  },
  {
   "cell_type": "code",
   "execution_count": 7,
   "id": "59c2b4d8",
   "metadata": {},
   "outputs": [],
   "source": [
    "def calculate_players_from_ordered_dict(game):\n",
    "    playercount_normalized_results = {}\n",
    "    for playercount in game:\n",
    "        if not 'result' in playercount:\n",
    "            return 0\n",
    "        total_votes = 0\n",
    "        result_total_result = 0\n",
    "        result_normalized_result = 0\n",
    "        for result in playercount['result']:\n",
    "            current_player_count = result['@value']\n",
    "            multiplier = result_value[result['@value'].upper().replace(' ', '')]\n",
    "            total_votes += int(result['@numvotes'])\n",
    "            result_total_result += int(result['@numvotes']) * multiplier\n",
    "        if(total_votes):\n",
    "            result_normalized_result = result_total_result / total_votes\n",
    "        else:\n",
    "            result_normalized_result = 0\n",
    "            result_normalized_result = 0\n",
    "        playercount_normalized_results[playercount['@numplayers']]=result_normalized_result\n",
    "    sum_of_weighted_players = 0\n",
    "    sum_of_keys = 0\n",
    "    num_of_keys = 0\n",
    "    for key in playercount_normalized_results.keys():\n",
    "        if not key.isnumeric():\n",
    "            num = int(key[:-1]) + 1\n",
    "        else:\n",
    "            num = int(key)\n",
    "        sum_of_weighted_players += num * (playercount_normalized_results[key]/3)\n",
    "        sum_of_keys += num\n",
    "        num_of_keys += 1\n",
    "    return (sum_of_weighted_players)/(sum_of_keys/num_of_keys)\n"
   ]
  },
  {
   "cell_type": "code",
   "execution_count": 8,
   "id": "114945de",
   "metadata": {},
   "outputs": [],
   "source": [
    "def plot_train_clusters():\n",
    "    plt.scatter(train_set.iloc[:, 0], train_set.iloc[:, 1], c=y_kmeans, s=1, alpha=.4, cmap=cmap)\n",
    "\n",
    "    centers = kmeans.cluster_centers_\n",
    "    plt.scatter(centers[:, 0], centers[:, 1], c='black', s=100, alpha=0.5);\n",
    "    plt.plot(range(-20,20), [0]*40, '-', linewidth=1)\n",
    "    plt.plot( [0]*40, range(-20,20), '-', linewidth=1)"
   ]
  },
  {
   "cell_type": "code",
   "execution_count": 9,
   "id": "dca1eb00",
   "metadata": {},
   "outputs": [],
   "source": [
    "def plot_test_clusters():\n",
    "    plt.scatter(test_set.iloc[:, 0], test_set.iloc[:, 1], c=y_testkmeans, s=1, alpha=.4, cmap=cmap)\n",
    "    centers = kmeans.cluster_centers_\n",
    "    plt.scatter(centers[:, 0], centers[:, 1], c='black', s=100, alpha=0.5);\n",
    "    plt.plot(range(-20,20), [0]*40, '-', linewidth=1)\n",
    "    plt.plot( [0]*40, range(-20,20), '-', linewidth=1)"
   ]
  },
  {
   "cell_type": "code",
   "execution_count": 10,
   "id": "5dc09b94",
   "metadata": {
    "scrolled": false
   },
   "outputs": [],
   "source": [
    "def plot_kmeans_actual_pred():\n",
    "    new_array = []\n",
    "    pred_vals = reg.predict(test_set)\n",
    "    for i in range(0,len(pred_vals)):\n",
    "        new_array.append(abs(y_testkmeans[i] - pred_vals[i]))\n",
    "\n",
    "    print(max(y_testkmeans))\n",
    "    print(min(y_testkmeans))\n",
    "    print(max(pred_vals))\n",
    "    print(min(pred_vals))\n",
    "    print(sum_of_array(new_array)/len(new_array))\n",
    "\n",
    "    plt.scatter(pred_vals, y_testkmeans, c=y_testkmeans, s=5, alpha=.2, marker='o', cmap=cmap)\n",
    "    plt.plot(pred_vals, pred_vals, '-')"
   ]
  },
  {
   "cell_type": "code",
   "execution_count": 11,
   "id": "3f7526b7",
   "metadata": {},
   "outputs": [],
   "source": [
    "def predict_game_cluster(game_id_list):\n",
    "    global clean_detailed_info\n",
    "    global reg\n",
    "    number_of_features = len(clean_detailed_info.columns) - 1\n",
    "    games = np.empty((0,number_of_features), float)\n",
    "    for game_id in game_id_list:\n",
    "        games = np.append(games, np.array([clean_detailed_info.iloc[game_id].drop('cluster')]), axis=0)\n",
    "    average_of_games = np.average(games, axis=0)\n",
    "    scaled_average = scaler.transform(average_of_games.reshape(1, -1))\n",
    "    pca_average = pca_set.transform(scaled_average)\n",
    "    predicted_cluster = reg.predict(pca_average)\n",
    "    if predicted_cluster - math.floor(predicted_cluster) <= .5:\n",
    "        predicted_cluster = math.floor(predicted_cluster)\n",
    "    else:\n",
    "        predicted_cluster = math.ceil(predicted_cluster)\n",
    "    if predicted_cluster < 0:\n",
    "        predicted_cluster = 0\n",
    "    elif predicted_cluster > 5:\n",
    "        predicted_cluster = 5\n",
    "\n",
    "    \n",
    "    return predicted_cluster"
   ]
  },
  {
   "cell_type": "code",
   "execution_count": 12,
   "id": "b12d74bd",
   "metadata": {
    "scrolled": false
   },
   "outputs": [],
   "source": [
    "def count_predicted_clusters():\n",
    "    from collections import Counter\n",
    "    predictionlist = []\n",
    "    for i in range(1000):\n",
    "        game_id_list = [random.randrange(10000)]*random.randrange(3,10)\n",
    "        predictionlist.append(predict_game_cluster(game_id_list))\n",
    "    predicted_counts = Counter(predictionlist)\n",
    "    for i in range(6):\n",
    "        print(str(i) + ': happens this often - ' + str(predicted_counts[i]/1000))"
   ]
  },
  {
   "cell_type": "code",
   "execution_count": 13,
   "id": "04ea5e09",
   "metadata": {},
   "outputs": [],
   "source": [
    "def plot_all_clusters():\n",
    "    plt.scatter(principalComponentsGamesDF.iloc[:, 0], principalComponentsGamesDF.iloc[:, 1], c=all_games_kmeans, s=1, alpha=.4, cmap=cmap)\n",
    "    centers = kmeans.cluster_centers_\n",
    "    plt.scatter(centers[:, 0], centers[:, 1], c='black', s=100, alpha=0.5);\n",
    "    plt.plot(range(-20,20), [0]*40, '-', linewidth=1)\n",
    "    plt.plot( [0]*40, range(-20,20), '-', linewidth=1)"
   ]
  },
  {
   "cell_type": "code",
   "execution_count": 14,
   "id": "3c6b4c8b",
   "metadata": {
    "scrolled": true
   },
   "outputs": [],
   "source": [
    "def count_cluster_distribution():\n",
    "    all_counts = Counter(all_games_kmeans)\n",
    "\n",
    "    for i in range(6):\n",
    "        print(str(i) + ': happens this often - ' + str(all_counts[i]/len(all_games_kmeans)))"
   ]
  },
  {
   "cell_type": "code",
   "execution_count": 15,
   "id": "d46544c5",
   "metadata": {
    "scrolled": true
   },
   "outputs": [],
   "source": [
    "def avg_dif_predicted_actual():\n",
    "    sum_average = {'predicted' : 0, 'actual': 0}\n",
    "    len_actual = len(all_games_kmeans)\n",
    "    len_predicted = len(predictionlist)\n",
    "    for i in range(6):\n",
    "        prob_predicted = predicted_counts[i]/len_predicted\n",
    "        prob_actual = all_counts[i]/len_actual\n",
    "        print(str(i) + ': happens this often in all games - ' + str(prob_actual))\n",
    "        print(str(i) + ': happens this often in predicted games- ' + str(prob_predicted))\n",
    "        print('\\nThe difference is ' + str(prob_actual - prob_predicted) + '\\n\\n\\n')\n",
    "        sum_average['predicted'] += prob_predicted\n",
    "        sum_average['actual'] += prob_actual\n",
    "    print(sum_average)\n",
    "    "
   ]
  },
  {
   "cell_type": "code",
   "execution_count": 16,
   "id": "e2a10cf2",
   "metadata": {},
   "outputs": [],
   "source": [
    "def show_window():\n",
    "\n",
    "    window = tk.Tk()\n",
    "    window.title('Board Game Suggestor')\n",
    "    choice_one_label = Label(window, text='CHOICE #1')\n",
    "    choice_one_label.grid(row=1,column=1)\n",
    "    game_choice_one = Combobox(window, textvariable=['test1', 'test2', 'test3'], values=[1,2,3])\n",
    "    game_choice_one.grid(row=1,column=2, pady=15, padx=10)\n",
    "\n",
    "    choice_two_label = Label(window, text='CHOICE #2')\n",
    "    choice_two_label.grid(row=2,column=1)\n",
    "    game_choice_two = Combobox(window, textvariable=['test1', 'test2', 'test3'], values=[1,2,3])\n",
    "    game_choice_two.grid(row=2,column=2, pady=15, padx=10)\n",
    "\n",
    "    choice_three_label = Label(window, text='CHOICE #3')\n",
    "    choice_three_label.grid(row=3,column=1)\n",
    "    game_choice_three = Combobox(window, textvariable=['test1', 'test2', 'test3'], values=[1,2,3])\n",
    "    game_choice_three.grid(row=3,column=2, pady=15, padx=10)\n",
    "\n",
    "    choice_four_label = Label(window, text='CHOICE #4')\n",
    "    choice_four_label.grid(row=4,column=1)\n",
    "    game_choice_four = Combobox(window, textvariable=['test1', 'test2', 'test3'], values=[1,2,3])\n",
    "    game_choice_four.grid(row=4,column=2, pady=15, padx=10)\n",
    "\n",
    "    choice_five_label = Label(window, text='CHOICE #5')\n",
    "    choice_five_label.grid(row=5,column=1)\n",
    "    game_choice_five = Combobox(window, textvariable=['test1', 'test2', 'test3'], values=[1,2,3])\n",
    "    game_choice_five.grid(row=5,column=2, pady=15, padx=10)\n",
    "\n",
    "\n",
    "    get_results_button = Button(text='Get My Results')\n",
    "    get_results_button.grid(row=7, column=1, pady=15, padx=15)\n",
    "\n",
    "    window.mainloop()"
   ]
  },
  {
   "cell_type": "markdown",
   "id": "3376ff0f",
   "metadata": {},
   "source": [
    "# APPLICATION"
   ]
  },
  {
   "cell_type": "code",
   "execution_count": 17,
   "id": "10929f53",
   "metadata": {},
   "outputs": [],
   "source": [
    "random_seed = 222\n",
    "# red=0, green=1, blue=2, cyan=3, magenta=4, yellow=5\n",
    "cmap = colors.ListedColormap(['r','g','b','c','m', 'y'])\n",
    "result_value = {\n",
    "    'BEST' : 3,\n",
    "    'RECOMMENDED' : 2,\n",
    "    'NOTRECOMMENDED' : 1   \n",
    "}\n",
    "\n",
    "language_value = {\n",
    "    'NO' : 1,\n",
    "    'SOME' : 2,\n",
    "    'MODERATE' : 3,\n",
    "    'EXTENSIVE' : 4,\n",
    "    'UNPLAYABLE' : 5\n",
    "}\n",
    "\n",
    "unclean_detailed_info = pd.read_csv('..\\Resources\\BoardGames\\games_detailed_info.csv')\n",
    "clean_detailed_info = unclean_detailed_info.drop(['Unnamed: 0', 'type', 'id', 'thumbnail', 'image', 'primary',\n",
    "       'alternate', 'description', 'yearpublished', 'boardgameexpansion', 'boardgameimplementation',\n",
    "       'boardgamedesigner', 'boardgameartist', 'boardgamepublisher', 'boardgameintegration', 'boardgamecompilation', 'boardgamecategory',\n",
    "       'boardgamemechanic', 'boardgamefamily', 'RPG Item Rank', 'Accessory Rank', 'Video Game Rank', 'Amiga Rank',\n",
    "       'Commodore 64 Rank', 'Arcade Rank', 'Atari ST Rank'], axis=1)"
   ]
  },
  {
   "cell_type": "code",
   "execution_count": 18,
   "id": "78ba2dd9",
   "metadata": {},
   "outputs": [],
   "source": [
    "clean_detailed_info = clean_detailed_info.fillna(0)\n",
    "clean_detailed_info['suggested_num_players'] = clean_detailed_info['suggested_num_players'].apply(add_brackets_and_eval)\n",
    "clean_detailed_info['suggested_num_players'] = clean_detailed_info['suggested_num_players'].apply(calculate_players_from_ordered_dict)\n",
    "clean_detailed_info = clean_detailed_info[clean_detailed_info['suggested_playerage'] != 0]\n",
    "clean_detailed_info['suggested_playerage'] = clean_detailed_info['suggested_playerage'].apply(add_brackets_and_eval)\n",
    "clean_detailed_info['suggested_playerage'] = clean_detailed_info['suggested_playerage'].apply(calculate_age_from_ordered_dict)\n",
    "clean_detailed_info = clean_detailed_info[clean_detailed_info['suggested_language_dependence'] != 0]\n",
    "clean_detailed_info['suggested_language_dependence'] = clean_detailed_info['suggested_language_dependence'].apply(add_brackets_and_eval)\n",
    "clean_detailed_info['suggested_language_dependence'] = clean_detailed_info['suggested_language_dependence'].apply(normalize_language_dependence)\n",
    "clean_detailed_info = clean_detailed_info[clean_detailed_info['suggested_num_players'] > 0]\n",
    "clean_detailed_info = clean_detailed_info[clean_detailed_info['suggested_playerage'] > 0]\n",
    "clean_detailed_info = clean_detailed_info[clean_detailed_info['suggested_language_dependence'] > 0]"
   ]
  },
  {
   "cell_type": "code",
   "execution_count": 19,
   "id": "2ef5eb8f",
   "metadata": {},
   "outputs": [],
   "source": [
    "scaler = StandardScaler().fit(clean_detailed_info)\n",
    "scaled_set = scaler.transform(clean_detailed_info)\n",
    "pca_set = PCA(n_components=2, random_state=random_seed)\n",
    "principalComponentsGames = pca_set.fit_transform(scaled_set)\n",
    "principalComponentsGamesDF = pd.DataFrame(data=principalComponentsGames, columns = ['PC1', 'PC2'])\n",
    "train_set, test_set = train_test_split(principalComponentsGamesDF, test_size=0.2, random_state=random_seed, shuffle=True)\n",
    "kmeans = KMeans(n_clusters=6, random_state=random_seed)\n",
    "kmeans.fit(train_set)\n",
    "y_kmeans = kmeans.predict(train_set)\n",
    "y_testkmeans = kmeans.predict(test_set)\n",
    "#putting the cluster number in the unclean data set to retrieve results from later\n",
    "all_games_kmeans = kmeans.predict(principalComponentsGamesDF)\n",
    "reg = LinearRegression().fit(train_set, y_kmeans)\n",
    "clean_detailed_info['cluster'] = all_games_kmeans.tolist()\n",
    "unclean_detailed_info['cluster'] = clean_detailed_info['cluster']"
   ]
  },
  {
   "cell_type": "code",
   "execution_count": 143,
   "id": "9202d407",
   "metadata": {
    "scrolled": true
   },
   "outputs": [
    {
     "name": "stdout",
     "output_type": "stream",
     "text": [
      "1\n",
      "3\n",
      "2\n",
      "3\n",
      "2\n",
      "3\n",
      "1\n",
      "2\n",
      "2\n",
      "2\n",
      "3\n",
      "2\n",
      "1\n",
      "3\n",
      "2\n",
      "2\n",
      "1\n",
      "2\n",
      "2\n",
      "2\n",
      "2\n",
      "3\n",
      "2\n",
      "4\n",
      "1\n",
      "1\n",
      "3\n",
      "1\n",
      "1\n",
      "2\n",
      "3\n",
      "3\n",
      "2\n",
      "1\n",
      "1\n",
      "3\n",
      "1\n",
      "3\n",
      "4\n",
      "2\n",
      "2\n",
      "2\n",
      "2\n",
      "2\n",
      "2\n",
      "1\n",
      "1\n",
      "3\n",
      "2\n",
      "3\n",
      "2\n",
      "3\n",
      "2\n",
      "2\n",
      "3\n",
      "2\n",
      "2\n",
      "2\n",
      "1\n",
      "2\n",
      "1\n",
      "1\n",
      "3\n",
      "1\n",
      "2\n",
      "1\n",
      "2\n",
      "3\n",
      "1\n",
      "1\n",
      "2\n",
      "5\n",
      "2\n",
      "2\n",
      "3\n",
      "3\n",
      "2\n",
      "1\n",
      "3\n",
      "2\n",
      "3\n",
      "3\n",
      "0\n",
      "2\n",
      "1\n",
      "1\n",
      "3\n",
      "4\n",
      "3\n",
      "2\n",
      "1\n",
      "2\n",
      "3\n",
      "2\n",
      "3\n",
      "2\n",
      "3\n",
      "3\n",
      "2\n",
      "2\n"
     ]
    }
   ],
   "source": [
    "for i in range(100):\n",
    "    print(predict_game_cluster([random.randrange(12000)]))"
   ]
  },
  {
   "cell_type": "code",
   "execution_count": 144,
   "id": "7b622fe1",
   "metadata": {
    "scrolled": true
   },
   "outputs": [
    {
     "name": "stdout",
     "output_type": "stream",
     "text": [
      "5\n",
      "0\n",
      "5.576337055468887\n",
      "-1.17696192410913\n",
      "1.3039212051034532\n"
     ]
    },
    {
     "data": {
      "image/png": "[encoded data removed]",
      "text/plain": [
       "<Figure size 432x288 with 1 Axes>"
      ]
     },
     "metadata": {
      "needs_background": "light"
     },
     "output_type": "display_data"
    }
   ],
   "source": [
    "plot_kmeans_actual_pred()"
   ]
  },
  {
   "cell_type": "code",
   "execution_count": 146,
   "id": "16a05389",
   "metadata": {},
   "outputs": [
    {
     "name": "stdout",
     "output_type": "stream",
     "text": [
      "[-0.12406399 -0.44433535]\n"
     ]
    }
   ],
   "source": [
    "print(reg.coef_)"
   ]
  },
  {
   "cell_type": "markdown",
   "id": "5ae6e301",
   "metadata": {},
   "source": [
    "# TESTING"
   ]
  },
  {
   "cell_type": "markdown",
   "id": "feb4719e",
   "metadata": {},
   "source": [
    "# STAGING"
   ]
  }
 ],
 "metadata": {
  "kernelspec": {
   "display_name": "Python 3",
   "language": "python",
   "name": "python3"
  },
  "language_info": {
   "codemirror_mode": {
    "name": "ipython",
    "version": 3
   },
   "file_extension": ".py",
   "mimetype": "text/x-python",
   "name": "python",
   "nbconvert_exporter": "python",
   "pygments_lexer": "ipython3",
   "version": "3.8.8"
  }
 },
 "nbformat": 4,
 "nbformat_minor": 5
}
